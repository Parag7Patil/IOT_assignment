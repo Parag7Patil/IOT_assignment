{
 "cells": [
  {
   "cell_type": "code",
   "execution_count": 70,
   "id": "11a98dec-4f36-4b9a-9eb4-97ae076be4d1",
   "metadata": {},
   "outputs": [],
   "source": [
    "#Write a NumPy program to create an array with the values 1, 7, 13, 105    and determine the size of the memory occupied by the array\n",
    "\n",
    "import numpy as np\n",
    "#import pandas as pd\n",
    "\n",
    "def function():\n",
    "    arr=np.array([1,2,7,107])\n",
    "    print(arr)\n",
    "    print(f\"size = {arr.size}\")\n",
    "    print(f\"Bytes={arr.nbytes}\")"
   ]
  },
  {
   "cell_type": "code",
   "execution_count": 25,
   "id": "d38e6427-09a5-438b-b1ae-6ab9d1fe8e9c",
   "metadata": {},
   "outputs": [
    {
     "name": "stdout",
     "output_type": "stream",
     "text": [
      "[  1   2   7 107]\n",
      "size = 4\n",
      "Bytes=32\n"
     ]
    }
   ],
   "source": [
    "function()"
   ]
  },
  {
   "cell_type": "code",
   "execution_count": 34,
   "id": "241483af-a6db-4eef-abdf-136a613ef45e",
   "metadata": {},
   "outputs": [
    {
     "name": "stdout",
     "output_type": "stream",
     "text": [
      "Original numbers:\n",
      "[3 5]\n",
      "[2 5]\n",
      "Comparison - greater\n",
      "[ True False]\n",
      "Comparison - greater_equal\n",
      "[ True  True]\n",
      "Comparison - less\n",
      "[False False]\n",
      "Comparison - less_equal\n",
      "[False  True]\n"
     ]
    }
   ],
   "source": [
    "#Write a NumPy program to create an element-wise comparison (greater,    greater_equal, less and less_equal) of two given arrays.\n",
    "\n",
    "x = np.array([3, 5])\n",
    "y = np.array([2, 5])\n",
    "\n",
    "print(\"Comparison - greater\")\n",
    "print(np.greater(x, y))\n",
    "\n",
    "print(\"Comparison - greater_equal\")\n",
    "print(np.greater_equal(x, y))\n",
    "\n",
    "\n",
    "print(\"Comparison - less\")\n",
    "print(np.less(x, y))\n",
    "\n",
    "print(\"Comparison - less_equal\")\n",
    "print(np.less_equal(x, y)) "
   ]
  },
  {
   "cell_type": "code",
   "execution_count": 44,
   "id": "9b2640ab-2c37-414b-b559-971d3c691f46",
   "metadata": {},
   "outputs": [
    {
     "name": "stdout",
     "output_type": "stream",
     "text": [
      "[0. 0. 0. 0. 0. 0. 0. 0. 0. 0.]\n",
      "[1. 1. 1. 1. 1. 1. 1. 1. 1. 1.]\n",
      "[5. 5. 5. 5. 5. 5. 5. 5. 5. 5.]\n",
      "[10. 10. 10. 10. 10. 10. 10. 10. 10. 10.]\n",
      "[20. 20. 20. 20. 20. 20. 20. 20. 20. 20.]\n",
      "[50. 50. 50. 50. 50. 50. 50. 50. 50. 50.]\n"
     ]
    }
   ],
   "source": [
    "#Write a NumPy program to create an array of 10 zeros, 10 ones, 10    fives, 10 tens, 10 twentys and 10 fiftys.\n",
    "\n",
    "arr2 = np.zeros(10)\n",
    "print(arr2)\n",
    "\n",
    "arr2 = np.ones(10)\n",
    "print(arr2)\n",
    "\n",
    "arr2 = np.ones(10)*5\n",
    "print(arr2)\n",
    "\n",
    "arr2 = np.ones(10)*10\n",
    "print(arr2)\n",
    "\n",
    "arr2 = np.ones(10)*20\n",
    "print(arr2)\n",
    "\n",
    "arr2 = np.ones(10)*50\n",
    "print(arr2)\n",
    "\n"
   ]
  },
  {
   "cell_type": "code",
   "execution_count": 49,
   "id": "a689a7d3-0f4f-4dae-8694-e85bd70fb150",
   "metadata": {},
   "outputs": [
    {
     "name": "stdout",
     "output_type": "stream",
     "text": [
      "[30 31 32 33 34 35 36 37 38 39 40 41 42 43 44 45 46 47 48 49 50 51 52 53\n",
      " 54 55 56 57 58 59 60 61 62 63 64 65 66 67 68 69 70]\n"
     ]
    }
   ],
   "source": [
    "#Write a NumPy program to create an array of integers from 50 to 95.\n",
    "\n",
    "arr3 = np.arange(30,71)\n",
    "print(arr3)\n",
    "\n"
   ]
  },
  {
   "cell_type": "code",
   "execution_count": 50,
   "id": "936272c0-5898-4638-aa58-f99dbfc587c3",
   "metadata": {},
   "outputs": [
    {
     "name": "stdout",
     "output_type": "stream",
     "text": [
      "[50 51 52 53 54 55 56 57 58 59 60 61 62 63 64 65 66 67 68 69 70 71 72 73\n",
      " 74 75 76 77 78 79 80 81 82 83 84 85 86 87 88 89 90 91 92 93 94 95]\n"
     ]
    }
   ],
   "source": [
    "#Write a NumPy program to create an array of integers from 50 to 95.\n",
    "\n",
    "arr4 = np.arange(50,96)\n",
    "print(arr4)\n",
    "\n"
   ]
  },
  {
   "cell_type": "code",
   "execution_count": 54,
   "id": "1dc27b6d-cdcc-449b-bd01-646994a04dfa",
   "metadata": {},
   "outputs": [
    {
     "name": "stdout",
     "output_type": "stream",
     "text": [
      "[20 22 24 26 28 30 32 34 36 38 40 42 44 46 48 50 52 54 56 58 60 62 64 66\n",
      " 68 70 72 74 76 78 80]\n"
     ]
    }
   ],
   "source": [
    "#Write a NumPy program to create an array of all even integers from 20 to 80.\n",
    "\n",
    "arr5=np.arange(20,81,2)\n",
    "print(arr5)"
   ]
  },
  {
   "cell_type": "code",
   "execution_count": 57,
   "id": "4283b827-17c9-4007-b830-8097656f537c",
   "metadata": {},
   "outputs": [
    {
     "name": "stdout",
     "output_type": "stream",
     "text": [
      "[21 23 25 27 29 31 33 35 37 39 41 43 45 47 49 51 53 55 57 59 61 63 65 67\n",
      " 69 71 73 75 77 79]\n"
     ]
    }
   ],
   "source": [
    "#Write a NumPy program to create an array of all odd integers from 20 to 80.\n",
    "\n",
    "arr6=np.arange(20+1,80,2)\n",
    "print(arr6)"
   ]
  },
  {
   "cell_type": "code",
   "execution_count": 58,
   "id": "cbf97b0d-6d64-4b5e-9c9a-51e5449cf72b",
   "metadata": {},
   "outputs": [
    {
     "name": "stdout",
     "output_type": "stream",
     "text": [
      "[14 11 18 37 23 32 32 12 27 22 37 32 13 24 34]\n"
     ]
    }
   ],
   "source": [
    "#Write a NumPy program to generate an array of 15 random numbers from 10    to 40.\n",
    "\n",
    "arr7=np.random.randint(10,40,15)\n",
    "print(arr7)"
   ]
  },
  {
   "cell_type": "code",
   "execution_count": 59,
   "id": "71dde58a-6101-44ae-98a9-bfec1ade912a",
   "metadata": {},
   "outputs": [
    {
     "name": "stdout",
     "output_type": "stream",
     "text": [
      "[37 40 39 43 42 49 41 34 40 41]\n"
     ]
    }
   ],
   "source": [
    "#Write a NumPy program to generate an array of 10 random numbers from 30    to 50.\n",
    "\n",
    "arr8=np.random.randint(30,50,10)\n",
    "print(arr8)\n"
   ]
  },
  {
   "cell_type": "code",
   "execution_count": 61,
   "id": "8e20bd30-dfdb-4224-a528-e3230c8a2b2a",
   "metadata": {},
   "outputs": [
    {
     "name": "stdout",
     "output_type": "stream",
     "text": [
      "[86 61 60 64 63 72 85 54 60 75 73 69 64 78 51 75 69 67 61 76]\n"
     ]
    }
   ],
   "source": [
    "#Write a NumPy program to generate an array of 20 random numbers from 50    to 90.\n",
    "\n",
    "arr9=np.random.randint(50,90,20)\n",
    "print(arr9)"
   ]
  },
  {
   "cell_type": "code",
   "execution_count": 63,
   "id": "0e418b8a-f240-4790-b271-c1ab14d359a8",
   "metadata": {},
   "outputs": [
    {
     "name": "stdout",
     "output_type": "stream",
     "text": [
      "arr=[10 20 30 40]\n",
      "arr=[50 60 70 80]\n",
      "[ 60  80 100 120]\n"
     ]
    }
   ],
   "source": [
    "#Create any two arrays & perform various mathematical operations.\n",
    " #   i.e. Addition, Substraction, Multiplication, Divide.\n",
    "\n",
    "a1=np.array([10,20,30,40])\n",
    "a2=np.array([50,60,70,80])\n",
    "print(f\"arr={a1}\")\n",
    "print(f\"arr={a2}\")\n",
    "print(a1+a2)\n"
   ]
  },
  {
   "cell_type": "code",
   "execution_count": 73,
   "id": "547b51ce-050d-4a0b-8f7d-c3cb199631c2",
   "metadata": {},
   "outputs": [
    {
     "name": "stdout",
     "output_type": "stream",
     "text": [
      "[[10 11 12 13]\n",
      " [14 15 16 17]\n",
      " [18 19 20 21]]\n"
     ]
    }
   ],
   "source": [
    " #Write a NumPy program to create a 3x4 matrix filled with values from 10     to 21.\n",
    "\n",
    "m = np.arange(10, 22).reshape((3, 4))\n",
    "print(m)\n"
   ]
  },
  {
   "cell_type": "code",
   "execution_count": 74,
   "id": "fd18d78c-59b7-4f05-87b7-584f59cb281d",
   "metadata": {},
   "outputs": [
    {
     "name": "stdout",
     "output_type": "stream",
     "text": [
      "[[1. 0. 0.]\n",
      " [0. 1. 0.]\n",
      " [0. 0. 1.]]\n"
     ]
    }
   ],
   "source": [
    "\n",
    "#Write a NumPy program to create a 3x3 identity matrix, i.e. the diagonal     elements are 1, the rest are 0.\n",
    "\n",
    "x = np.eye(3)\n",
    "print(x)"
   ]
  },
  {
   "cell_type": "code",
   "execution_count": 75,
   "id": "7dfb18f2-4b77-4419-be3a-27b50b22532b",
   "metadata": {},
   "outputs": [
    {
     "name": "stdout",
     "output_type": "stream",
     "text": [
      "Rows: 2\n",
      "Columns: 3\n"
     ]
    }
   ],
   "source": [
    "#Write a NumPy program to find the number of rows and columns in a given     matrix. \n",
    "\n",
    "mat = np.array([[9, 9, 9], [8, 8, 8]])\n",
    " \n",
    "dimensions = mat.shape\n",
    "rows, columns = dimensions\n",
    " \n",
    "print(\"Rows:\", rows)\n",
    "print(\"Columns:\", columns)"
   ]
  },
  {
   "cell_type": "code",
   "execution_count": 76,
   "id": "d29da38c-3169-4ea5-9e44-f2fde14db340",
   "metadata": {},
   "outputs": [
    {
     "name": "stdout",
     "output_type": "stream",
     "text": [
      "[[1 0 0 0 0]\n",
      " [0 2 0 0 0]\n",
      " [0 0 3 0 0]\n",
      " [0 0 0 4 0]\n",
      " [0 0 0 0 5]]\n"
     ]
    }
   ],
   "source": [
    "#Write a NumPy program to create a 5x5 zero matrix with elements on the     main diagonal equal to 1, 2, 3, 4, 5.\n",
    "\n",
    "import numpy as np\n",
    "\n",
    "\n",
    "x = np.diag([1, 2, 3, 4, 5])\n",
    "print(x) "
   ]
  },
  {
   "cell_type": "code",
   "execution_count": null,
   "id": "8190b015-b150-4760-8242-4b1e2f9139aa",
   "metadata": {},
   "outputs": [],
   "source": []
  },
  {
   "cell_type": "code",
   "execution_count": null,
   "id": "8f6db6b1-abee-4c2d-91a2-20eeae1deb0a",
   "metadata": {},
   "outputs": [],
   "source": []
  }
 ],
 "metadata": {
  "kernelspec": {
   "display_name": "Python 3 (ipykernel)",
   "language": "python",
   "name": "python3"
  },
  "language_info": {
   "codemirror_mode": {
    "name": "ipython",
    "version": 3
   },
   "file_extension": ".py",
   "mimetype": "text/x-python",
   "name": "python",
   "nbconvert_exporter": "python",
   "pygments_lexer": "ipython3",
   "version": "3.10.12"
  }
 },
 "nbformat": 4,
 "nbformat_minor": 5
}
